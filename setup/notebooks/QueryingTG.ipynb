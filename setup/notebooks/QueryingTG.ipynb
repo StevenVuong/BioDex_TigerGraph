{
  "cells": [
    {
      "cell_type": "markdown",
      "id": "ab0b13b8-f0d6-4b11-89ba-7a8f34e85571",
      "metadata": {
        "id": "ab0b13b8-f0d6-4b11-89ba-7a8f34e85571"
      },
      "source": [
        "# Querying"
      ]
    },
    {
      "cell_type": "code",
      "execution_count": null,
      "id": "734c2f26-b5ec-43c9-aaa4-94f2fbed57a3",
      "metadata": {
        "id": "734c2f26-b5ec-43c9-aaa4-94f2fbed57a3"
      },
      "outputs": [],
      "source": [
        "!pip install -U pyTigerGraph"
      ]
    },
    {
      "cell_type": "markdown",
      "id": "-BMoNAUnwYMd",
      "metadata": {
        "id": "-BMoNAUnwYMd"
      },
      "source": [
        "## Connect to Graph we want to query"
      ]
    },
    {
      "cell_type": "code",
      "execution_count": null,
      "id": "a15ed30d-5df8-48c7-8892-4f2652b26ea9",
      "metadata": {
        "id": "a15ed30d-5df8-48c7-8892-4f2652b26ea9"
      },
      "outputs": [],
      "source": [
        "# Imports\n",
        "import pyTigerGraph as tg\n",
        "\n",
        "# fill in the below with your Tiger Graph credentials\n",
        "HOSTNAME = \"<ENTER_HOSTNAME>\"\n",
        "USERNAME = \"<ENTER_USERNAME>\"\n",
        "PASSWORD = \"<ENTER_PASSWORD>\"\n",
        "GRAPH_NAME = \"taxonomy2\"\n",
        "\n",
        "# connect to pytigerGraph\n",
        "conn = tg.TigerGraphConnection(\n",
        "    host=HOSTNAME, username=USERNAME, password=PASSWORD, \n",
        "    gsqlVersion=\"3.0.5\", \n",
        "    )\n",
        "\n",
        "# set graph name to the graph we want to conneect to\n",
        "conn.graphname = GRAPH_NAME\n",
        "\n",
        "# create a secret\n",
        "secret = conn.createSecret()\n",
        "\n",
        "# use the secret to get a token\n",
        "authToken = conn.getToken(secret)[0]\n",
        "\n",
        "# connect to graph with token\n",
        "conn = tg.TigerGraphConnection(\n",
        "    host=HOSTNAME, username=USERNAME, password=PASSWORD, \n",
        "    graphname=GRAPH_NAME, apiToken=authToken\n",
        "    )"
      ]
    },
    {
      "cell_type": "markdown",
      "id": "ohIE_ootwbbV",
      "metadata": {
        "id": "ohIE_ootwbbV"
      },
      "source": [
        "### Test: Installing a query"
      ]
    },
    {
      "cell_type": "code",
      "execution_count": null,
      "id": "3d5de2b4-57e2-47be-8ca3-950450e0fb9c",
      "metadata": {
        "id": "3d5de2b4-57e2-47be-8ca3-950450e0fb9c"
      },
      "outputs": [],
      "source": [
        "# create a query\n",
        "conn.gsql(\"\"\"\n",
        "USE GRAPH taxonomy2\n",
        "CREATE QUERY sample_query() FOR GRAPH taxonomy2 {\n",
        "    PRINT \"Hello World\";\n",
        "}\n",
        "\"\"\")\n",
        "\n",
        "# install\n",
        "conn.gsql(\"\"\"\n",
        "USE GRAPH taxonomy2\n",
        "INSTALL QUERY sample_query\n",
        "\"\"\")"
      ]
    },
    {
      "cell_type": "code",
      "execution_count": null,
      "id": "Tehv0D1EwgfO",
      "metadata": {
        "id": "Tehv0D1EwgfO"
      },
      "outputs": [],
      "source": [
        "# now run\n",
        "result = conn.runInstalledQuery(\"sample_query\")\n",
        "print(result)"
      ]
    },
    {
      "cell_type": "markdown",
      "id": "BcdqmtcNxBrf",
      "metadata": {
        "id": "BcdqmtcNxBrf"
      },
      "source": [
        "## Basic Queries\n",
        "(with pyTigerGraph)"
      ]
    },
    {
      "cell_type": "code",
      "execution_count": null,
      "id": "5AWninURwhwA",
      "metadata": {
        "id": "5AWninURwhwA"
      },
      "outputs": [],
      "source": [
        "# get vertices corresponding to an ID\n",
        "results = conn.getVerticesById(\"Taxon\", \"10109647\")\n",
        "print(results) #[{'v_id': '10109647', 'v_type': 'Taxon', 'attributes': {'scientificName': 'Tobamovirus', 'canonicalName': '', 'genericName': '', 'specificEpithet': ''}}]\n"
      ]
    },
    {
      "cell_type": "code",
      "execution_count": null,
      "id": "7LpW0ZAR0Aa0",
      "metadata": {
        "id": "7LpW0ZAR0Aa0"
      },
      "outputs": [],
      "source": [
        "# get edges of a taxon\n",
        "results = conn.getEdgeCountFrom(\"Taxon\", \"10109647\")\n",
        "print(results) #{'parent_taxon_id': 1, 'child_taxon_id': 1, 'accepted_name_id': 1, 'original_name_id': 1, 'taxon_rank': 1, 'taxon_status': 1, 'taxon_distribution': 0, 'distribution_establishment': 0, 'distribution_occurrence': 0, 'distribution_locationid': 0, 'distribution_locality': 0, 'distribution_country': 0, 'sighting': 0}"
      ]
    },
    {
      "cell_type": "code",
      "execution_count": null,
      "id": "0Wegt-330Hgs",
      "metadata": {
        "id": "0Wegt-330Hgs"
      },
      "outputs": [],
      "source": [
        "# get edges\n",
        "results = conn.getEdges(\"Taxon\", \"10109647\")\n",
        "print(results) #[{'e_type': 'parent_taxon_id', 'directed': True, 'from_id': '10109647', 'from_type': 'Taxon', 'to_id': '6', 'to_type': 'Taxon', 'attributes': {}}, {'e_type': 'child_taxon_id', 'directed': True, 'from_id': '10109647', 'from_type': 'Taxon', 'to_id': '10574262', 'to_type': 'Taxon', 'attributes': {}}, {'e_type': 'accepted_name_id', 'directed': True, 'from_id': '10109647', 'from_type': 'Taxon', 'to_id': '-1', 'to_type': 'Taxon', 'attributes': {}}, {'e_type': 'original_name_id', 'directed': True, 'from_id': '10109647', 'from_type': 'Taxon', 'to_id': '-1', 'to_type': 'Taxon', 'attributes': {}}, {'e_type': 'taxon_rank', 'directed': False, 'from_id': '10109647', 'from_type': 'Taxon', 'to_id': 'genus', 'to_type': 'TaxonRank', 'attributes': {}}, {'e_type': 'taxon_status', 'directed': False, 'from_id': '10109647', 'from_type': 'Taxon', 'to_id': 'accepted', 'to_type': 'TaxonomicStatus', 'attributes': {}}]\n"
      ]
    },
    {
      "cell_type": "markdown",
      "id": "9d5ad281",
      "metadata": {
        "id": "9d5ad281"
      },
      "source": [
        "## Generic Queries\n",
        "\n",
        "Using GSQL interpreted queries. We can always convert the queries we use more often to \n",
        "installed queries for efficiency. \n",
        "\n",
        "TODO: Determine which queries are used more frequently, then create and install them for greater efficiency."
      ]
    },
    {
      "cell_type": "code",
      "execution_count": null,
      "id": "6fzPJq9GxDJt",
      "metadata": {
        "id": "6fzPJq9GxDJt"
      },
      "outputs": [],
      "source": [
        "# seleect all kingdom Taxon Ranks and return the connected Taxons\n",
        "conn.runInterpretedQuery(\"\"\"\n",
        "INTERPRET QUERY get_all_kingdom_taxons() FOR GRAPH taxonomy2 {\n",
        "    tr = {TaxonRank.*};\n",
        "    result = SELECT t FROM tr - (taxon_rank) - Taxon:t\n",
        "        WHERE tr.rank == \"kingdom\";\n",
        "        \n",
        "    PRINT result;\n",
        "}\n",
        "\"\"\")"
      ]
    },
    {
      "cell_type": "code",
      "execution_count": null,
      "id": "izmCzW3p4ZdE",
      "metadata": {
        "id": "izmCzW3p4ZdE"
      },
      "outputs": [],
      "source": [
        "# 5 taxons whose taxon rank is species and taxon status is doubtful\n",
        "# order of taxon ID\n",
        "conn.runInterpretedQuery(\"\"\"\n",
        "INTERPRET QUERY get_all_doubtful_taxonstatus() FOR GRAPH taxonomy2 { \n",
        "    result = SELECT t FROM TaxonomicStatus:ts - (taxon_status) - Taxon:t - (taxon_rank) - TaxonRank:tr\n",
        "        WHERE ts.status == \"doubtful\"\n",
        "        AND t.genericName==\"Acacia\"\n",
        "        AND tr.rank==\"species\"\n",
        "        ORDER BY t.taxonID ASC\n",
        "        LIMIT 5 OFFSET 1;\n",
        "        \n",
        "    PRINT result;\n",
        "}\n",
        "\"\"\")"
      ]
    },
    {
      "cell_type": "code",
      "execution_count": null,
      "id": "85OKoqikISwo",
      "metadata": {
        "id": "85OKoqikISwo"
      },
      "outputs": [],
      "source": [
        "# count number of doubtful taxon statuses using accumulators\n",
        "conn.runInterpretedQuery(\"\"\"\n",
        "INTERPRET QUERY count_doubtful_taxonstaus() FOR GRAPH taxonomy2 {\n",
        "    \n",
        "    SumAccum<INT> @@num_doubtful_taxonstatus;\n",
        "    SetAccum<Vertex<TaxonomicStatus>> @@taxonomic_statuses;\n",
        "\n",
        "    result = SELECT t FROM TaxonomicStatus:ts - (taxon_status) - Taxon:t\n",
        "        WHERE ts.status == \"doubtful\"\n",
        "        ACCUM\n",
        "            @@num_doubtful_taxonstatus += 1,\n",
        "            @@taxonomic_statuses += ts\n",
        "        HAVING\n",
        "            @@num_doubtful_taxonstatus > 1;\n",
        "    \n",
        "    PRINT @@num_doubtful_taxonstatus AS numDoubtfulTaxonStatus;\n",
        "    PRINT @@taxonomic_statuses.size() AS numTaxonomicStatuses; # can omit the .size() to get the actual taxon itself\n",
        "}\n",
        "\"\"\")\n",
        "# [{'numDoubtfulTaxonStatus': 273245}, {'numTaxonomicStatuses': 1}]"
      ]
    },
    {
      "cell_type": "code",
      "execution_count": null,
      "id": "b1cae9ad",
      "metadata": {
        "id": "b1cae9ad"
      },
      "outputs": [],
      "source": [
        "# count number of unranked taxons\n",
        "conn.runInterpretedQuery(\"\"\"\n",
        "INTERPRET QUERY count_unranked_taxons() FOR GRAPH taxonomy2 { \n",
        "  \n",
        "    SumAccum<INT> @@num_unranked_taxons;\n",
        "\n",
        "    result = SELECT t FROM TaxonRank:tr - (taxon_rank) - Taxon:t\n",
        "        WHERE tr.rank == \"unranked\"\n",
        "        ACCUM\n",
        "            @@num_unranked_taxons += 1;\n",
        "\n",
        "    \n",
        "    PRINT @@num_unranked_taxons AS numUnrankedTaxon;\n",
        "}\n",
        "\"\"\")\n",
        "# \"numUnrankedTaxon\": 778993\n"
      ]
    },
    {
      "cell_type": "code",
      "execution_count": null,
      "id": "25aca758",
      "metadata": {
        "id": "25aca758"
      },
      "outputs": [],
      "source": [
        "# get 5 unranked taxons\n",
        "conn.runInterpretedQuery(\"\"\"\n",
        "INTERPRET QUERY get_unranked_taxons() FOR GRAPH taxonomy2 { \n",
        "  /* Write query logic here */   \n",
        "    result = SELECT t FROM TaxonRank:tr - (taxon_rank) - Taxon:t\n",
        "        WHERE tr.rank == \"unranked\"\n",
        "        LIMIT 5;\n",
        "    \n",
        "    PRINT result;\n",
        "}\n",
        "\"\"\")"
      ]
    },
    {
      "cell_type": "markdown",
      "id": "26302483",
      "metadata": {
        "id": "26302483"
      },
      "source": [
        "### Taxon Queries"
      ]
    },
    {
      "cell_type": "code",
      "execution_count": null,
      "id": "28ae8093",
      "metadata": {
        "id": "28ae8093"
      },
      "outputs": [],
      "source": [
        "# get specific taxon by id\n",
        "conn.runInterpretedQuery(\"\"\"\n",
        "INTERPRET QUERY get_specific_taxon_by_id(UINT taxonID) FOR GRAPH taxonomy2 { \n",
        "  \n",
        "    result = SELECT t FROM Taxon:t\n",
        "        WHERE t.taxonID == taxonID\n",
        "        LIMIT 1;\n",
        "    \n",
        "    PRINT result;\n",
        "}\n",
        "\"\"\", params={\"taxonID\": 10763537}) # example taxonid"
      ]
    },
    {
      "cell_type": "code",
      "execution_count": null,
      "id": "3a04175e",
      "metadata": {
        "id": "3a04175e"
      },
      "outputs": [],
      "source": [
        "# find all the countries a taxonid is distributed in\n",
        "# can be used to confirm if a taxa is present in a specific country\n",
        "# example of multi-hop query\n",
        "conn.runInterpretedQuery(\"\"\"\n",
        "    INTERPRET QUERY get_country_distributions_of_taxonid(UINT taxonID) FOR GRAPH taxonomy2 { \n",
        "\n",
        "  \n",
        "    result = SELECT c FROM Taxon:t - (taxon_distribution) - Distribution - (distribution_country) - Country:c;\n",
        "    \n",
        "    PRINT result;\n",
        "}\n",
        "\"\"\", params={ \"taxonID\": 10763537 }) # example taxonid"
      ]
    },
    {
      "cell_type": "code",
      "execution_count": null,
      "id": "f8bf8315",
      "metadata": {
        "id": "f8bf8315"
      },
      "outputs": [],
      "source": [
        "# get parent taxonid\n",
        "# example of a directed traversal\n",
        "conn.runInterpretedQuery(\"\"\"\n",
        "INTERPRET QUERY get_parent_of_taxonid(UINT taxonID) FOR GRAPH taxonomy2 { \n",
        "  \n",
        "    result = SELECT pt FROM Taxon:t - (parent_taxon_id) -> Taxon:pt\n",
        "        WHERE t.taxonID == taxonID\n",
        "        LIMIT 1;\n",
        "  \n",
        "  PRINT result;\n",
        "}\n",
        "\"\"\", params={ \"taxonID\": 10763537 })"
      ]
    },
    {
      "cell_type": "code",
      "execution_count": null,
      "id": "ef75d0a3",
      "metadata": {
        "id": "ef75d0a3"
      },
      "outputs": [],
      "source": [
        "# get all children of a taxonid\n",
        "conn.runInterpretedQuery(\"\"\"\n",
        "INTERPRET QUERY get_children_of_taxonid(UINT taxonID) FOR GRAPH taxonomy2 { \n",
        "      \n",
        "  SumAccum<INT> @@num_children_taxons;\n",
        "  SetAccum<Vertex<Taxon>> @@children_taxon_ids;\n",
        "\n",
        "  result = SELECT ct FROM Taxon: t - (child_taxon_id) -> Taxon: ct\n",
        "    WHERE t.taxonID == taxonID\n",
        "    ACCUM\n",
        "        @@num_children_taxons+=1,\n",
        "        @@children_taxon_ids += ct;\n",
        "  \n",
        "  PRINT @@num_children_taxons AS numChildrenTaxons;\n",
        "  PRINT @@children_taxon_ids AS childrenTaxonIds;\n",
        "}\n",
        "\"\"\", params={ \"taxonID\": 3338 })"
      ]
    },
    {
      "cell_type": "code",
      "execution_count": null,
      "id": "ceccf86e",
      "metadata": {
        "id": "ceccf86e"
      },
      "outputs": [],
      "source": [
        "# get sibling taxonids; returns result taxon, with siblings in @taxons\n",
        "# Note; This query must be created\n",
        "conn.gsql(\"\"\"\n",
        "CREATE QUERY get_taxonid_neighbours(UINT taxonID) FOR GRAPH taxonomy2 { \n",
        "\n",
        "  BagAccum<VERTEX> @child_taxon_ids;\n",
        "  \n",
        "  result = SELECT pt from Taxon:t - (parent_taxon_id) - Taxon:pt\n",
        "    WHERE t.taxonID == taxonID \n",
        "    POST-ACCUM\n",
        "      pt.@child_taxon_ids = pt.neighbors(\"child_taxon_id\");\n",
        "  \n",
        "  PRINT result;\n",
        "}\n",
        "\"\"\")"
      ]
    },
    {
      "cell_type": "code",
      "execution_count": null,
      "id": "aPv9l9Q4N1bn",
      "metadata": {
        "id": "aPv9l9Q4N1bn"
      },
      "outputs": [],
      "source": [
        "# install the above query\n",
        "conn.gsql(\"\"\"USE GRAPH taxonomy2 INSTALL QUERY get_taxonid_neighbours\"\"\")"
      ]
    },
    {
      "cell_type": "code",
      "execution_count": null,
      "id": "JaWXQI-GNoGo",
      "metadata": {
        "id": "JaWXQI-GNoGo"
      },
      "outputs": [],
      "source": [
        "conn.runInstalledQuery(\"get_taxonid_neighbours\", params={'taxonID': 10763537})"
      ]
    },
    {
      "cell_type": "code",
      "execution_count": null,
      "id": "4499635a",
      "metadata": {
        "id": "4499635a"
      },
      "outputs": [],
      "source": [
        "# recursively get all parents of a taxon id as far as we can go\n",
        "# example of a recursive traversal\n",
        "conn.runInterpretedQuery(\"\"\"\n",
        "INTERPRET QUERY get_parents_recursive_of_taxonid(UINT taxonID) FOR GRAPH taxonomy2 SYNTAX v2{ \n",
        "  \n",
        "    SumAccum<INT> @@num_taxon_parents;\n",
        "    SetAccum<INT> @@taxon_parents_id;\n",
        "\n",
        "    result = SELECT pt FROM Taxon:t - (parent_taxon_id>*) - Taxon:pt\n",
        "        WHERE t.taxonID == taxonID\n",
        "        ACCUM\n",
        "            @@num_taxon_parents += 1,\n",
        "            @@taxon_parents_id += pt.taxonID;\n",
        "\n",
        "    PRINT @@num_taxon_parents AS numTaxonParents;\n",
        "    PRINT @@taxon_parents_id as taxonParentsId;\n",
        "}\n",
        "\"\"\", params={ \"taxonID\": 10763537 })\n",
        "# [{'numTaxonParents': 7}, {'taxonParentsId': [0, 1, 54, 216, 811, 3338, 10763537]}]"
      ]
    },
    {
      "cell_type": "code",
      "execution_count": null,
      "id": "26810baa",
      "metadata": {
        "id": "26810baa"
      },
      "outputs": [],
      "source": [
        "# get ranking of taxonid\n",
        "conn.runInterpretedQuery(\"\"\"\n",
        "INTERPRET QUERY get_taxonid_ranking(UINT taxonID) FOR GRAPH taxonomy2 { \n",
        "  result = SELECT tr FROM Taxon: t - (taxon_rank) - TaxonRank: tr\n",
        "  WHERE t.taxonID==taxonID;\n",
        "  \n",
        "  PRINT result;\n",
        "}\n",
        "\"\"\", params={ \"taxonID\": 10763537 })\n",
        "#[{'result': [{'attributes': {'rank': 'unranked'},'v_id': 'unranked','v_type': 'TaxonRank'}]}]"
      ]
    },
    {
      "cell_type": "code",
      "execution_count": null,
      "id": "a79f077d",
      "metadata": {
        "id": "a79f077d"
      },
      "outputs": [],
      "source": [
        "# get taxon status of taxonid\n",
        "conn.runInterpretedQuery(\"\"\"\n",
        "INTERPRET QUERY get_taxonid_status(UINT taxonID) FOR GRAPH taxonomy2 { \n",
        "  result = SELECT ts FROM Taxon: t - (taxon_status) - TaxonomicStatus: ts\n",
        "  WHERE t.taxonID==taxonID;\n",
        "  \n",
        "  PRINT result;\n",
        "}\n",
        "\"\"\", params={ \"taxonID\": 10763537 })\n",
        "#[{'result': [{'attributes': {'status': 'accepted'}, 'v_id': 'accepted', 'v_type': 'TaxonomicStatus'}]}]"
      ]
    },
    {
      "cell_type": "markdown",
      "id": "210a809e",
      "metadata": {
        "id": "210a809e"
      },
      "source": [
        "Can get all the parents, then separate queries to get all their rankings, statuses etc.."
      ]
    },
    {
      "cell_type": "markdown",
      "id": "89e58ec7",
      "metadata": {
        "id": "89e58ec7"
      },
      "source": [
        "### Player Sighting Queries"
      ]
    },
    {
      "cell_type": "code",
      "execution_count": null,
      "id": "f33e846d",
      "metadata": {
        "id": "f33e846d"
      },
      "outputs": [],
      "source": [
        "# create new player (when a new player joins)\n",
        "# can also be used to update player data\n",
        "conn.runInterpretedQuery(\"\"\"\n",
        "INTERPRET QUERY create_player(STRING name, UINT level, UINT score) FOR GRAPH taxonomy2 { \n",
        "  /* the name will be the same as the ID for player. Perhaps in future this may be different. \n",
        "  Maybe the name can be the PK for Player as a better schema.*/ \n",
        "  INSERT INTO Player VALUES (name, name, level, score);\n",
        "}\n",
        "\"\"\", params={\"name\": \"Nina\", \"level\": 1, \"score\": 100})"
      ]
    },
    {
      "cell_type": "code",
      "execution_count": null,
      "id": "d36db05e",
      "metadata": {
        "id": "d36db05e"
      },
      "outputs": [],
      "source": [
        "# get player info by id\n",
        "conn.runInterpretedQuery(\"\"\"\n",
        "INTERPRET QUERY get_player_info(STRING playerID) FOR GRAPH taxonomy2 { \n",
        "  \n",
        "  result = SELECT p from Player:p \n",
        "    WHERE p.id==playerID;\n",
        "  PRINT result;\n",
        "}\n",
        "\"\"\", params={'playerID': \"Hari\"})"
      ]
    },
    {
      "cell_type": "code",
      "execution_count": null,
      "id": "e7a0e17a",
      "metadata": {
        "id": "e7a0e17a"
      },
      "outputs": [],
      "source": [
        "# create a player sighting edge (connects player to taxon)\n",
        "conn.runInterpretedQuery(\"\"\"\n",
        "INTERPRET QUERY create_sighting_edge(STRING playerID, UINT taxonID, FLOAT latitude, FLOAT longitude, DATETIME sightingTime, STRING img_store_url) FOR GRAPH taxonomy2 { \n",
        "  INSERT INTO sighting VALUES (playerID, taxonID, latitude, longitude, sightingTime, img_store_url);\n",
        "}\n",
        "\"\"\", params={\n",
        "    'playerID': \"Nina\", \n",
        "    'taxonID': 10763537, \n",
        "    'latitude':'51.5', \n",
        "    'longitude':'0.13', \n",
        "    'sightingTime':'2022-01-01 00:00:00', \n",
        "    'img_store_url':'https://static.dw.com/image/47967537_101.jpg'\n",
        "    })"
      ]
    },
    {
      "cell_type": "code",
      "execution_count": null,
      "id": "245f0a37",
      "metadata": {
        "id": "245f0a37"
      },
      "outputs": [],
      "source": [
        "# get all sightings of a player\n",
        "conn.runInterpretedQuery(\"\"\"\n",
        "INTERPRET QUERY get_all_player_sightings(STRING playerID) FOR GRAPH taxonomy2 { \n",
        "  \n",
        "  SetAccum<EDGE> @@sighting_edges;\n",
        "\n",
        "  result = SELECT p FROM Player:p - (sighting:s) - Taxon:t\n",
        "    WHERE p.id == playerID\n",
        "    ACCUM\n",
        "      @@sighting_edges += s;\n",
        "  \n",
        "  PRINT @@sighting_edges;\n",
        "}\n",
        "\"\"\", params={'playerID': \"Hari\"})"
      ]
    },
    {
      "cell_type": "code",
      "execution_count": null,
      "id": "bb53d9de",
      "metadata": {
        "id": "bb53d9de"
      },
      "outputs": [],
      "source": [
        "# create a guild; a guild has to be attached to a player also\n",
        "# need to check that the player does not already belong to a guild first.\n",
        "# player can only belong to one guild\n",
        "conn.runInterpretedQuery(\"\"\"\n",
        "INTERPRET QUERY create_guild(STRING guildName, STRING playerId, DATETIME join_datetime) FOR GRAPH taxonomy2 { \n",
        "  /* Write query logic here */ \n",
        "  INSERT INTO Guild VALUES (guildName);\n",
        "  INSERT INTO player_guild VALUES(playerId, guildName, join_datetime);\n",
        "}\n",
        "\"\"\", params={\n",
        "        'guildName':'DevAdventurers2',\n",
        "        'playerId':'Nina',\n",
        "        'join_datetime':'2022-01-01 00:00:00'\n",
        "})"
      ]
    },
    {
      "cell_type": "code",
      "execution_count": null,
      "id": "4414567b",
      "metadata": {
        "id": "4414567b"
      },
      "outputs": [],
      "source": [
        "# get guild(s) of player\n",
        "conn.runInterpretedQuery(\"\"\"\n",
        "INTERPRET QUERY get_player_guild(STRING playerID) FOR GRAPH taxonomy2 { \n",
        "  \n",
        "  result = SELECT g FROM Player:p - (player_guild) - Guild:g\n",
        "    WHERE p.id==playerID;\n",
        "  \n",
        "  PRINT result; \n",
        "}\n",
        "\"\"\", params={'playerId':'Hari'})"
      ]
    },
    {
      "cell_type": "code",
      "execution_count": null,
      "id": "0ce8e2e9",
      "metadata": {
        "id": "0ce8e2e9"
      },
      "outputs": [],
      "source": [
        "# get all guilds\n",
        "conn.runInterpretedQuery(\"\"\"\n",
        "INTERPRET QUERY get_all_guilds() FOR GRAPH taxonomy2 { \n",
        "  result = SELECT g FROM Guild:g;\n",
        "  PRINT result;\n",
        "}\n",
        "\"\"\")"
      ]
    },
    {
      "cell_type": "code",
      "execution_count": null,
      "id": "ecee052d",
      "metadata": {
        "id": "ecee052d"
      },
      "outputs": [],
      "source": [
        "# connect other player to guild\n",
        "# note; this can be also be used to create a guild if the guildname does not exist\n",
        "# creates a new guild, so the previous query above is obsolete\n",
        "# this also creates a new player if a different player id is entered that doesn't exist\n",
        "conn.runInterpretedQuery(\"\"\"\n",
        "INTERPRET QUERY create_edge_player_guild(STRING playerID, STRING guildName, DATETIME join_datetime) FOR GRAPH taxonomy2 { \n",
        "  INSERT INTO player_guild VALUES(playerID, guildName, join_datetime);\n",
        "}\n",
        "\"\"\", params={\n",
        "        'guildName':'DevAdventurers2',\n",
        "        'playerId':'Wing',\n",
        "        'join_datetime':'2022-01-01 00:00:00'\n",
        "})"
      ]
    },
    {
      "cell_type": "code",
      "execution_count": null,
      "id": "ff934fe7",
      "metadata": {
        "id": "ff934fe7"
      },
      "outputs": [],
      "source": [
        "# delete an edge\n",
        "# dedlete player_guild edge (ie. when a player leaves a guild)\n",
        "conn.runInterpretedQuery(\"\"\"\n",
        "INTERPRET QUERY delete_player_guild_edge(STRING playerID, STRING guildName) FOR GRAPH taxonomy2 { \n",
        "  \n",
        "  result = SELECT g FROM Player:p - (player_guild:pg) - Guild:g\n",
        "    WHERE g.name==guildName AND p.id==playerID\n",
        "    ACCUM \n",
        "      DELETE (pg);\n",
        "}\n",
        "\"\"\", params={'playerId':'Wing', 'guildName':'DevAdventurers2'})"
      ]
    },
    {
      "cell_type": "code",
      "execution_count": null,
      "id": "94491756",
      "metadata": {
        "id": "94491756"
      },
      "outputs": [],
      "source": [
        "# delete a guild\n",
        "conn.runInterpretedQuery(\"\"\"\n",
        "INTERPRET QUERY delete_guild_node(STRING guildName) FOR GRAPH taxonomy2 { \n",
        "  result = SELECT g from Guild:g WHERE g.name==guildName POST-ACCUM DELETE(g);\n",
        "}\n",
        "\"\"\", params={'guildName':'DevAdventurers2'})"
      ]
    },
    {
      "cell_type": "code",
      "execution_count": null,
      "id": "3a4e266b",
      "metadata": {
        "id": "3a4e266b"
      },
      "outputs": [],
      "source": [
        "# get all players in a guild\n",
        "conn.runInterpretedQuery(\"\"\"\n",
        "INTERPRET QUERY get_players_in_guild(STRING guildName) FOR GRAPH taxonomy2 {\n",
        "  result = SELECT p from Guild:g - (player_guild) - Player:p\n",
        "    WHERE g.name==guildName;\n",
        "  PRINT result; \n",
        "}\n",
        "\"\"\", params={'guildName':'DevAdventurers'})"
      ]
    },
    {
      "cell_type": "code",
      "execution_count": null,
      "id": "1a0fd897",
      "metadata": {
        "id": "1a0fd897"
      },
      "outputs": [],
      "source": [
        "# see all the unique taxons a guild has collected\n",
        "conn.runInterpretedQuery(\"\"\"\n",
        "INTERPRET QUERY get_guild_all_sightings(STRING guildName) FOR GRAPH taxonomy2 { \n",
        "    \n",
        "  result = SELECT t FROM Guild:g - (player_guild) - Player:p - (sighting:s) - Taxon:t\n",
        "    WHERE g.name==guildName;\n",
        "  \n",
        "  PRINT result;\n",
        "}\n",
        "\"\"\", params={'guildName':'DevAdventurers'})"
      ]
    },
    {
      "cell_type": "markdown",
      "id": "31263768",
      "metadata": {
        "id": "31263768"
      },
      "source": [
        "### Notes:\n",
        "-  For the app; of 10,000 original species, how many have you spotted?\n",
        "-  GBIF Species description API: https://api.gbif.org/v1/species/5231190/descriptions\n",
        "-  GBIF Species API: https://api.gbif.org/v1/species/5231190"
      ]
    },
    {
      "cell_type": "markdown",
      "id": "c09e7ddc",
      "metadata": {},
      "source": [
        "## Create and Install Queries for FrontEnd\n",
        "With the above we have shown what interpreted queries can do; now we will install the ones we wish to use directly for v1 of our frontend app."
      ]
    },
    {
      "cell_type": "code",
      "execution_count": null,
      "id": "64596385",
      "metadata": {},
      "outputs": [],
      "source": [
        "# install create sighting edge\n",
        "conn.gsql(\"\"\"\n",
        "USE GRAPH taxonomy2\n",
        "CREATE QUERY create_sighting_edge(STRING playerID, UINT taxonID, FLOAT latitude, FLOAT longitude, DATETIME sightingTime, STRING img_store_url) FOR GRAPH taxonomy2 { \n",
        "  INSERT INTO sighting VALUES (playerID, taxonID, latitude, longitude, sightingTime, img_store_url);\n",
        "}\n",
        "\"\"\")\n",
        "\n",
        "# install\n",
        "conn.gsql(\"\"\"\n",
        "USE GRAPH taxonomy2\n",
        "INSTALL QUERY create_sighting_edge\n",
        "\"\"\")"
      ]
    },
    {
      "cell_type": "code",
      "execution_count": null,
      "id": "5941e2f8",
      "metadata": {},
      "outputs": [],
      "source": [
        "# install get all guilds\n",
        "conn.gsql(\"\"\"\n",
        "USE GRAPH taxonomy2\n",
        "CREATE QUERY get_all_guilds() FOR GRAPH taxonomy2 { \n",
        "  result = SELECT g FROM Guild:g;\n",
        "  PRINT result;\n",
        "}\n",
        "\"\"\")\n",
        "\n",
        "conn.gsql(\"\"\"\n",
        "USE GRAPH taxonomy2\n",
        "INSTALL QUERY get_all_guilds\n",
        "\"\"\")"
      ]
    },
    {
      "cell_type": "code",
      "execution_count": null,
      "id": "82809a42",
      "metadata": {},
      "outputs": [],
      "source": [
        "# install get all player sightings\n",
        "conn.gsql(\"\"\"\n",
        "USE GRAPH taxonomy2\n",
        "CREATE QUERY get_all_player_sightings(STRING playerID) FOR GRAPH taxonomy2 { \n",
        "  \n",
        "  SetAccum<EDGE> @@sighting_edges;\n",
        "\n",
        "  result = SELECT p FROM Player:p - (sighting:s) - Taxon:t\n",
        "    WHERE p.id == playerID\n",
        "    ACCUM\n",
        "      @@sighting_edges += s;\n",
        "  \n",
        "  PRINT @@sighting_edges;\n",
        "}\n",
        "\"\"\")\n",
        "\n",
        "conn.gsql(\"\"\"\n",
        "USE GRAPH taxonomy2\n",
        "INSTALL QUERY get_all_player_sightings\n",
        "\"\"\")"
      ]
    },
    {
      "cell_type": "code",
      "execution_count": null,
      "id": "f2166be2",
      "metadata": {},
      "outputs": [],
      "source": [
        "# install get children of taxonid\n",
        "conn.gsql(\"\"\"\n",
        "USE GRAPH taxonomy2\n",
        "CREATE QUERY get_children_of_taxonid(UINT taxonID) FOR GRAPH taxonomy2 { \n",
        "      \n",
        "  SumAccum<INT> @@num_children_taxons;\n",
        "  SetAccum<Vertex<Taxon>> @@children_taxon_ids;\n",
        "\n",
        "  result = SELECT ct FROM Taxon: t - (child_taxon_id) -> Taxon: ct\n",
        "    WHERE t.taxonID == taxonID\n",
        "    ACCUM\n",
        "        @@num_children_taxons+=1,\n",
        "        @@children_taxon_ids += ct;\n",
        "  \n",
        "  PRINT @@num_children_taxons AS numChildrenTaxons;\n",
        "  PRINT @@children_taxon_ids AS childrenTaxonIds;\n",
        "}\n",
        "\"\"\")\n",
        "\n",
        "conn.gsql(\"\"\"\n",
        "USE GRAPH taxonomy2\n",
        "INSTALL QUERY get_children_of_taxonid\n",
        "\"\"\")"
      ]
    },
    {
      "cell_type": "code",
      "execution_count": null,
      "id": "7c02a203",
      "metadata": {},
      "outputs": [],
      "source": [
        "# install get country distributions for taxonid\n",
        "conn.gsql(\"\"\"\n",
        "USE GRAPH taxonomy2\n",
        "CREATE QUERY get_country_distributions_of_taxonid(UINT taxonID) FOR GRAPH taxonomy2 { \n",
        "\n",
        "  \n",
        "    result = SELECT c FROM Taxon:t - (taxon_distribution) - Distribution - (distribution_country) - Country:c;\n",
        "    \n",
        "    PRINT result;\n",
        "}\n",
        "\"\"\")\n",
        "\n",
        "conn.gsql(\"\"\"\n",
        "USE GRAPH taxonomy2\n",
        "INSTALL QUERY get_country_distributions_of_taxonid\n",
        "\"\"\")"
      ]
    },
    {
      "cell_type": "code",
      "execution_count": null,
      "id": "56f09e31",
      "metadata": {},
      "outputs": [],
      "source": [
        "# install get parent of taxonid\n",
        "conn.gsql(\"\"\"\n",
        "USE GRAPH taxonomy2\n",
        "CREATE QUERY get_parent_of_taxonid(UINT taxonID) FOR GRAPH taxonomy2 { \n",
        "  \n",
        "    result = SELECT pt FROM Taxon:t - (parent_taxon_id) -> Taxon:pt\n",
        "        WHERE t.taxonID == taxonID\n",
        "        LIMIT 1;\n",
        "  \n",
        "  PRINT result;\n",
        "}\n",
        "\"\"\")\n",
        "\n",
        "conn.gsql(\"\"\"\n",
        "USE GRAPH taxonomy2\n",
        "INSTALL QUERY get_parent_of_taxonid\n",
        "\"\"\")"
      ]
    },
    {
      "cell_type": "code",
      "execution_count": null,
      "id": "054b8d7b",
      "metadata": {},
      "outputs": [],
      "source": [
        "# install get taxonid neighbours\n",
        "conn.gsql(\"\"\"\n",
        "USE GRAPH taxonomy2\n",
        "CREATE QUERY get_taxonid_neighbours(UINT taxonID) FOR GRAPH taxonomy2 { \n",
        "\n",
        "  BagAccum<VERTEX> @child_taxon_ids;\n",
        "  \n",
        "  result = SELECT pt from Taxon:t - (parent_taxon_id) - Taxon:pt\n",
        "    WHERE t.taxonID == taxonID \n",
        "    POST-ACCUM\n",
        "      pt.@child_taxon_ids = pt.neighbors(\"child_taxon_id\");\n",
        "  \n",
        "  PRINT result;\n",
        "}\n",
        "\"\"\")\n",
        "\n",
        "conn.gsql(\"\"\"\n",
        "USE GRAPH taxonomy2\n",
        "INSTALL QUERY get_taxonid_neighbours\n",
        "\"\"\")"
      ]
    },
    {
      "cell_type": "code",
      "execution_count": null,
      "id": "10c14c89",
      "metadata": {},
      "outputs": [],
      "source": [
        "# install new get sightings\n",
        "conn.gsql(\"\"\"\n",
        "USE GRAPH taxonomy2\n",
        "CREATE QUERY new_get_sightings(STRING playerID) FOR GRAPH taxonomy2 SYNTAX v2 { \n",
        "    SELECT t.canonicalName, t, t.genericName, s INTO T\n",
        "        FROM Player:p - (sighting:s) - Taxon:t\n",
        "        WHERE p.id == playerID;\n",
        "    PRINT T;\n",
        "}\n",
        "\"\"\")\n",
        "\n",
        "conn.gsql(\"\"\"\n",
        "USE GRAPH taxonomy2\n",
        "INSTALL QUERY new_get_sightings\n",
        "\"\"\")"
      ]
    },
    {
      "cell_type": "code",
      "execution_count": null,
      "id": "9280d931",
      "metadata": {},
      "outputs": [],
      "source": [
        "# install new get taxon info\n",
        "conn.gsql(\"\"\"\n",
        "USE GRAPH taxonomy2\n",
        "CREATE QUERY new_get_taxon_info(UINT taxonID) FOR GRAPH taxonomy2 SYNTAX v2 { \n",
        "   SELECT s as status, r as rank, t.canonicalName, t, t.genericName INTO S\n",
        "        FROM  TaxonRank:r - (taxon_rank) - Taxon:t - (taxon_status) - TaxonomicStatus:s\n",
        "        WHERE t.taxonID == taxonID;\n",
        "\n",
        "\n",
        "    PRINT S;\n",
        "}\n",
        "\"\"\")\n",
        "\n",
        "conn.gsql(\"\"\"\n",
        "USE GRAPH taxonomy2\n",
        "INSTALL QUERY new_get_taxon_info\n",
        "\"\"\")"
      ]
    }
  ],
  "metadata": {
    "colab": {
      "collapsed_sections": [],
      "name": "QueryingTG.ipynb",
      "provenance": []
    },
    "kernelspec": {
      "display_name": "Python 3 (ipykernel)",
      "language": "python",
      "name": "python3"
    },
    "language_info": {
      "codemirror_mode": {
        "name": "ipython",
        "version": 3
      },
      "file_extension": ".py",
      "mimetype": "text/x-python",
      "name": "python",
      "nbconvert_exporter": "python",
      "pygments_lexer": "ipython3",
      "version": "3.9.10"
    }
  },
  "nbformat": 4,
  "nbformat_minor": 5
}

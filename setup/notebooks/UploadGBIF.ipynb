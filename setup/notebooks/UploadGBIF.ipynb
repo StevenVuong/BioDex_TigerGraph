{
 "cells": [
  {
   "cell_type": "markdown",
   "metadata": {
    "id": "wIHR2sOlykSu"
   },
   "source": [
    "# Upload Taxon Data From GBIF BackBone to PyTigerGraph Schema\n",
    "\n",
    "Note: Best way to quickly get started is to run on GoogleColab and connect to your local TGCloud\n",
    "\n",
    "## Install dependencies and get data"
   ]
  },
  {
   "cell_type": "code",
   "execution_count": null,
   "metadata": {
    "id": "ZrWIuhv7wTq3"
   },
   "outputs": [],
   "source": [
    "# install latest version of pyTigerGraph (0.0.9.9.2)\n",
    "!pip install -U pyTigerGraph"
   ]
  },
  {
   "cell_type": "code",
   "execution_count": null,
   "metadata": {
    "id": "pJNAmP8DwwmS"
   },
   "outputs": [],
   "source": [
    "# download data into local dir\n",
    "!wget https://hosted-datasets.gbif.org/datasets/backbone/current/backbone.zip\n",
    "!unzip backbone.zip\n",
    "!rm backbone.zip"
   ]
  },
  {
   "cell_type": "code",
   "execution_count": null,
   "metadata": {
    "colab": {
     "base_uri": "https://localhost:8080/"
    },
    "id": "Pyk6Wc_Xkhbc",
    "outputId": "fa390012-b9b4-4a10-a8b4-4211e86a9dc1"
   },
   "outputs": [],
   "source": [
    "# see where our server is; for Google Colab, this can vary depending on what is available\n",
    "!curl ipinfo.io"
   ]
  },
  {
   "cell_type": "markdown",
   "metadata": {
    "id": "KnukBD1yyv9o"
   },
   "source": [
    "## Connect to Graph"
   ]
  },
  {
   "cell_type": "code",
   "execution_count": null,
   "metadata": {
    "colab": {
     "base_uri": "https://localhost:8080/"
    },
    "id": "5EGpobxyxkWW",
    "outputId": "3d955c4b-e8ab-4da4-dcf1-24952e47caef"
   },
   "outputs": [],
   "source": [
    "# Imports\n",
    "import pyTigerGraph as tg\n",
    "\n",
    "# fill in the below with your Tiger Graph credentials\n",
    "HOSTNAME = \"<ENTER_HOSTNAME>\"\n",
    "USERNAME = \"<ENTER_USERNAME>\"\n",
    "PASSWORD = \"<ENTER_PASSWORD>\"\n",
    "\n",
    "# connect to pytigerGraph\n",
    "conn = tg.TigerGraphConnection(\n",
    "    host=HOSTNAME, \n",
    "    username=USERNAME, \n",
    "    password=PASSWORD, \n",
    "    gsqlVersion=\"3.0.5\", \n",
    "    )"
   ]
  },
  {
   "cell_type": "code",
   "execution_count": null,
   "metadata": {
    "colab": {
     "base_uri": "https://localhost:8080/",
     "height": 109
    },
    "id": "vbz9Bpyh13kx",
    "outputId": "9535829c-043d-4555-fef6-75b1e2dc619d",
    "tags": []
   },
   "outputs": [],
   "source": [
    "# to see all nodes\n",
    "conn.gsql('LS')"
   ]
  },
  {
   "cell_type": "code",
   "execution_count": null,
   "metadata": {
    "tags": []
   },
   "outputs": [],
   "source": [
    "# to also see all the databases\n",
    "conn.gsql('USE GLOBAL LS')"
   ]
  },
  {
   "cell_type": "code",
   "execution_count": null,
   "metadata": {
    "id": "sq0gnWSKzgke"
   },
   "outputs": [],
   "source": [
    "# make sure graph is empty; clear everything\n",
    "conn.gsql('''USE GLOBAL DROP ALL''')"
   ]
  },
  {
   "cell_type": "markdown",
   "metadata": {
    "id": "UPb8b4H70Dj9"
   },
   "source": [
    "## Define & Publish Schema"
   ]
  },
  {
   "cell_type": "markdown",
   "metadata": {
    "id": "oMXI_QbYQ9UL"
   },
   "source": [
    "### Create Vertexes"
   ]
  },
  {
   "cell_type": "code",
   "execution_count": null,
   "metadata": {
    "id": "dZH80qQHQ-1j"
   },
   "outputs": [],
   "source": [
    "print(conn.gsql('''\n",
    "    CREATE VERTEX Taxon (\n",
    "        PRIMARY_ID taxonID UINT,\n",
    "        scientificName STRING,\n",
    "        canonicalName STRING,\n",
    "        genericName STRING,\n",
    "        specificEpithet STRING\n",
    "        ) WITH primary_id_as_attribute=\"true\"\n",
    "\n",
    "    CREATE VERTEX TaxonRank (\n",
    "        PRIMARY_ID rank STRING\n",
    "        ) WITH primary_id_as_attribute=\"true\"\n",
    "\n",
    "    CREATE VERTEX TaxonomicStatus (\n",
    "        PRIMARY_ID status STRING\n",
    "        ) WITH primary_id_as_attribute=\"true\"\n",
    "    \n",
    "    CREATE VERTEX Distribution (\n",
    "        PRIMARY_ID distributionID UINT\n",
    "        ) WITH primary_id_as_attribute=\"true\"\n",
    "\n",
    "    CREATE VERTEX EstablishmentMeans (\n",
    "        PRIMARY_ID establishmentMeans STRING\n",
    "    ) WITH primary_id_as_attribute=\"true\"\n",
    "\n",
    "    CREATE VERTEX OccurrenceStatus (\n",
    "        PRIMARY_ID occurrenceStatus STRING\n",
    "    ) WITH primary_id_as_attribute=\"true\"\n",
    "\n",
    "    CREATE VERTEX LocationID (\n",
    "        PRIMARY_ID locationID STRING\n",
    "        ) WITH primary_id_as_attribute=\"true\"\n",
    "\n",
    "    CREATE VERTEX Locality (\n",
    "        PRIMARY_ID locality STRING\n",
    "        ) WITH primary_id_as_attribute=\"true\"\n",
    "\n",
    "    CREATE VERTEX Country (\n",
    "        PRIMARY_ID country STRING,\n",
    "        countryCode STRING\n",
    "        ) WITH primary_id_as_attribute=\"true\"\n",
    "\n",
    "    CREATE VERTEX Player (\n",
    "        PRIMARY_ID id STRING,\n",
    "        name STRING,\n",
    "        level UINT,\n",
    "        score UINT\n",
    "    ) WITH primary_id_as_attribute=\"true\"\n",
    "    \n",
    "    CREATE VERTEX Guild (\n",
    "        PRIMARY_ID name STRING\n",
    "    ) WITH primary_id_as_attribute=\"true\"\n",
    "    '''))"
   ]
  },
  {
   "cell_type": "markdown",
   "metadata": {
    "id": "LPgMCF7qRBxz"
   },
   "source": [
    "### Create Edges"
   ]
  },
  {
   "cell_type": "code",
   "execution_count": null,
   "metadata": {
    "id": "tQtqjCb-yztJ"
   },
   "outputs": [],
   "source": [
    "print(conn.gsql('''\n",
    "    CREATE DIRECTED EDGE parent_taxon_id (FROM Taxon, TO Taxon)\n",
    "    CREATE DIRECTED EDGE child_taxon_id (FROM Taxon, TO Taxon)\n",
    "\n",
    "    CREATE DIRECTED EDGE accepted_name_id (FROM Taxon, TO Taxon)\n",
    "    CREATE DIRECTED EDGE original_name_id (FROM Taxon, TO Taxon)\n",
    "    CREATE UNDIRECTED EDGE taxon_rank (FROM Taxon, TO TaxonRank)\n",
    "    CREATE UNDIRECTED EDGE taxon_status (FROM Taxon, TO TaxonomicStatus)\n",
    "\n",
    "    CREATE UNDIRECTED EDGE taxon_distribution (FROM Taxon, TO Distribution)\n",
    "    CREATE UNDIRECTED EDGE distribution_establishment (FROM Distribution, TO EstablishmentMeans)\n",
    "    CREATE UNDIRECTED EDGE distribution_occurrence (FROM Distribution, TO OccurrenceStatus)\n",
    "    CREATE UNDIRECTED EDGE distribution_locationid (FROM Distribution, TO LocationID)\n",
    "    CREATE UNDIRECTED EDGE distribution_locality (FROM Distribution, TO Locality)\n",
    "    CREATE UNDIRECTED EDGE distribution_country (FROM Distribution, TO Country)\n",
    "\n",
    "    CREATE UNDIRECTED EDGE sighting (\n",
    "        FROM Player, \n",
    "        TO Taxon, \n",
    "        latitude FLOAT, \n",
    "        longitude FLOAT,\n",
    "        sightingTime DATETIME,\n",
    "        img_store_url STRING\n",
    "        )\n",
    "    \n",
    "    CREATE UNDIRECTED EDGE player_guild (FROM Player, TO Guild, join_date DATETIME)\n",
    "    ''', options=[]))"
   ]
  },
  {
   "cell_type": "markdown",
   "metadata": {
    "id": "Qy39F9RcRFHa"
   },
   "source": [
    "### Create Graph"
   ]
  },
  {
   "cell_type": "code",
   "execution_count": null,
   "metadata": {},
   "outputs": [],
   "source": [
    "GRAPH_NAME = 'taxonomy2'"
   ]
  },
  {
   "cell_type": "code",
   "execution_count": null,
   "metadata": {
    "colab": {
     "base_uri": "https://localhost:8080/"
    },
    "id": "CrdLspVqRGx0",
    "outputId": "8f10721f-2404-4d4c-8ca4-442d7cc00841"
   },
   "outputs": [],
   "source": [
    "print(conn.gsql(f'''\n",
    "   CREATE GRAPH {GRAPH_NAME}(\n",
    "        Taxon, TaxonRank, TaxonomicStatus, parent_taxon_id, child_taxon_id, accepted_name_id, original_name_id, taxon_rank, taxon_status,\n",
    "        Distribution, EstablishmentMeans, OccurrenceStatus, LocationID, Locality, Country, Player, Guild,\n",
    "        taxon_distribution, distribution_establishment, distribution_occurrence, distribution_locationid, distribution_locality, distribution_country,\n",
    "        sighting, player_guild\n",
    "        )\n",
    "    '''))"
   ]
  },
  {
   "cell_type": "code",
   "execution_count": null,
   "metadata": {
    "colab": {
     "base_uri": "https://localhost:8080/",
     "height": 35
    },
    "id": "xX8RjsqEtR9z",
    "outputId": "8d9cdd73-a3d3-477d-a770-7e9c27c47bc4"
   },
   "outputs": [],
   "source": [
    "conn.gsql(f'USE GRAPH {GRAPH_NAME}')"
   ]
  },
  {
   "cell_type": "markdown",
   "metadata": {
    "id": "RgyphMaqSVzy"
   },
   "source": [
    "Securely connect to newly created graph"
   ]
  },
  {
   "cell_type": "code",
   "execution_count": null,
   "metadata": {
    "id": "pqEKZrYk0aH0"
   },
   "outputs": [],
   "source": [
    "secret = conn.createSecret()\n",
    "authToken = conn.getToken(secret)\n",
    "\n",
    "# securely connect to graph we created\n",
    "conn = tg.TigerGraphConnection(\n",
    "    host=HOSTNAME, \n",
    "    username=USERNAME, \n",
    "    password=PASSWORD, \n",
    "    graphname=GRAPH_NAME, \n",
    "    apiToken=authToken[0],\n",
    "    gsqlVersion=\"3.0.5\",\n",
    "    useCert=True\n",
    "    )\n"
   ]
  },
  {
   "cell_type": "markdown",
   "metadata": {
    "id": "8gkAjVy3SeCA"
   },
   "source": [
    "## Create Loading Jobs"
   ]
  },
  {
   "cell_type": "markdown",
   "metadata": {
    "id": "lsLslYb9SlG3"
   },
   "source": [
    "Create Loading jobs for Taxon TSV file"
   ]
  },
  {
   "cell_type": "code",
   "execution_count": null,
   "metadata": {
    "id": "Mg1hKW6pCSXO",
    "tags": []
   },
   "outputs": [],
   "source": [
    "results = conn.gsql('''\n",
    "    USE GRAPH taxonomy2\n",
    "    BEGIN\n",
    "    CREATE LOADING JOB load_taxon_csv FOR GRAPH taxonomy2 {\n",
    "        DEFINE FILENAME MyDataSource;\n",
    "        LOAD MyDataSource TO VERTEX Taxon VALUES($0, $4, $5, $6, $7) USING SEPARATOR=\",\", HEADER=\"true\", EOL=\"\\n\", QUOTE=\"double\";\n",
    "        LOAD MyDataSource TO VERTEX TaxonRank VALUES($8) USING SEPARATOR=\",\", HEADER=\"true\", EOL=\"\\n\", QUOTE=\"double\";\n",
    "        LOAD MyDataSource TO VERTEX TaxonomicStatus VALUES($9) USING SEPARATOR=\",\", HEADER=\"true\", EOL=\"\\n\", QUOTE=\"double\";\n",
    "\n",
    "        LOAD MyDataSource TO EDGE parent_taxon_id VALUES($0, $1) USING SEPARATOR=\",\", HEADER=\"true\", EOL=\"\\n\", QUOTE=\"double\";\n",
    "        LOAD MyDataSource TO EDGE child_taxon_id VALUES($1, $0) USING SEPARATOR=\",\", HEADER=\"true\", EOL=\"\\n\", QUOTE=\"double\";\n",
    "\n",
    "        LOAD MyDataSource TO EDGE accepted_name_id VALUES($0, $2) USING SEPARATOR=\",\", HEADER=\"true\", EOL=\"\\n\", QUOTE=\"double\";\n",
    "        LOAD MyDataSource TO EDGE original_name_id VALUES($0, $3) USING SEPARATOR=\",\", HEADER=\"true\", EOL=\"\\n\", QUOTE=\"double\";\n",
    "        LOAD MyDataSource TO EDGE taxon_rank VALUES($0, $8) USING SEPARATOR=\",\", HEADER=\"true\", EOL=\"\\n\", QUOTE=\"double\";\n",
    "        LOAD MyDataSource TO EDGE taxon_status VALUES($0, $9) USING SEPARATOR=\",\", HEADER=\"true\", EOL=\"\\n\", QUOTE=\"double\";\n",
    "  }\n",
    "  END''')\n",
    "print(results)"
   ]
  },
  {
   "cell_type": "markdown",
   "metadata": {},
   "source": [
    "Loading job for Distributions TSV file"
   ]
  },
  {
   "cell_type": "code",
   "execution_count": null,
   "metadata": {
    "id": "pJaFIDbHaESM"
   },
   "outputs": [],
   "source": [
    "results = conn.gsql('''\n",
    "  USE GRAPH taxonomy2\n",
    "  BEGIN\n",
    "  CREATE LOADING JOB load_distributions_csv FOR GRAPH taxonomy2 {\n",
    "    DEFINE FILENAME MyDataSource;\n",
    "    LOAD MyDataSource TO VERTEX Distribution VALUES($0) USING SEPARATOR=\",\", HEADER=\"true\", EOL=\"\\n\", QUOTE=\"double\";\n",
    "    LOAD MyDataSource TO VERTEX LocationID VALUES($2) USING SEPARATOR=\",\", HEADER=\"true\", EOL=\"\\n\", QUOTE=\"double\";\n",
    "    LOAD MyDataSource TO VERTEX Locality VALUES($3) USING SEPARATOR=\",\", HEADER=\"true\", EOL=\"\\n\", QUOTE=\"double\";\n",
    "    LOAD MyDataSource TO VERTEX Country VALUES($4, $5) USING SEPARATOR=\",\", HEADER=\"true\", EOL=\"\\n\", QUOTE=\"double\";\n",
    "    LOAD MyDataSource TO VERTEX EstablishmentMeans VALUES($6) USING SEPARATOR=\",\", HEADER=\"true\", EOL=\"\\n\", QUOTE=\"double\";\n",
    "    LOAD MyDataSource TO VERTEX OccurrenceStatus VALUES($7) USING SEPARATOR=\",\", HEADER=\"true\", EOL=\"\\n\", QUOTE=\"double\";\n",
    "\n",
    "    LOAD MyDataSource TO EDGE taxon_distribution VALUES($1, $0) USING SEPARATOR=\",\", HEADER=\"true\", EOL=\"\\n\", QUOTE=\"double\";\n",
    "    LOAD MyDataSource TO EDGE distribution_establishment VALUES($0, $6) USING SEPARATOR=\",\", HEADER=\"true\", EOL=\"\\n\", QUOTE=\"double\";\n",
    "    LOAD MyDataSource TO EDGE distribution_occurrence VALUES($0, $7) USING SEPARATOR=\",\", HEADER=\"true\", EOL=\"\\n\", QUOTE=\"double\";\n",
    "    LOAD MyDataSource TO EDGE distribution_locationid VALUES($0, $2) USING SEPARATOR=\",\", HEADER=\"true\", EOL=\"\\n\", QUOTE=\"double\";\n",
    "    LOAD MyDataSource TO EDGE distribution_locality VALUES($0, $3) USING SEPARATOR=\",\", HEADER=\"true\", EOL=\"\\n\", QUOTE=\"double\";\n",
    "    LOAD MyDataSource TO EDGE distribution_country VALUES($0, $4) USING SEPARATOR=\",\", HEADER=\"true\", EOL=\"\\n\", QUOTE=\"double\";\n",
    "  }\n",
    "  END''')\n",
    "print(results)"
   ]
  },
  {
   "cell_type": "markdown",
   "metadata": {
    "id": "rstoDXmz0GQD"
   },
   "source": [
    "## Preprocess Data\n",
    "\n",
    "Species Lookup: https://www.gbif.org/species/0\n",
    "\n"
   ]
  },
  {
   "cell_type": "code",
   "execution_count": null,
   "metadata": {},
   "outputs": [],
   "source": [
    "!pip install pandas==1.3.5\n",
    "!pip install numpy==1.21.5\n",
    "!pip install tqdm==4.63.1"
   ]
  },
  {
   "cell_type": "code",
   "execution_count": null,
   "metadata": {
    "id": "CZNFepLd-KkJ"
   },
   "outputs": [],
   "source": [
    "import os\n",
    "import pandas as pd\n",
    "import numpy as np\n",
    "from tqdm.notebook import tqdm\n",
    "# pd.set_option('max_columns', None) # display all cols\n",
    "\n",
    "DATA_DIR = './backbone/'"
   ]
  },
  {
   "cell_type": "markdown",
   "metadata": {
    "id": "Nm0q4FdPSZ_f"
   },
   "source": [
    "### Upload Taxon TSV file\n",
    "\n",
    "First, load and pre-process"
   ]
  },
  {
   "cell_type": "code",
   "execution_count": null,
   "metadata": {
    "id": "y7LwphePQ1qb"
   },
   "outputs": [],
   "source": [
    "## Taxon file\n",
    "# the datafile that has 90% of the information is 'Taxon.tsv'\n",
    "taxon_df = pd.read_csv(os.path.join(DATA_DIR, 'Taxon.tsv'), sep='\\t', header=0) \n",
    "\n",
    "# keep columns relevent to us\n",
    "taxon_df = taxon_df[['taxonID', 'parentNameUsageID', 'acceptedNameUsageID',\n",
    "       'originalNameUsageID', 'scientificName', 'canonicalName', \n",
    "       'genericName', 'specificEpithet', 'taxonRank', 'taxonomicStatus'\n",
    "       ]]\n",
    "\n",
    "# fill nan id with -1 and cast to int\n",
    "for column_name in ['parentNameUsageID', 'acceptedNameUsageID', 'originalNameUsageID']:\n",
    "    taxon_df[column_name] = taxon_df[column_name].fillna(-1)\n",
    "    taxon_df[column_name] = taxon_df[column_name].astype(int)\n",
    "\n",
    "# fill rest of nan with '' (empty string)\n",
    "taxon_df = taxon_df.fillna('')"
   ]
  },
  {
   "cell_type": "code",
   "execution_count": null,
   "metadata": {
    "id": "Ol2G7U6g2pMv"
   },
   "outputs": [],
   "source": [
    "display(taxon_df.head(1))\n",
    "taxon_df.shape"
   ]
  },
  {
   "cell_type": "markdown",
   "metadata": {
    "id": "AZKyJKFl3WHp"
   },
   "source": [
    "Here we have to split into smaller chunks and upload, otherwise we encounter upload errors."
   ]
  },
  {
   "cell_type": "code",
   "execution_count": null,
   "metadata": {
    "id": "qfRK1VSTnZoc"
   },
   "outputs": [],
   "source": [
    "# split into chunks\n",
    "chunked_taxon_df = np.array_split(taxon_df, 100) \n",
    "\n",
    "# temp savedir for our chunk\n",
    "processed_taxonfilepath = './processed_taxon.csv' \n",
    "\n",
    "# upload one-by-one: save chunk to csv, upload csv, repeat\n",
    "for idx, chunk_taxon_df in tqdm(enumerate(chunked_taxon_df)):\n",
    "    # save chunk as csv file and upload\n",
    "    chunk_taxon_df.to_csv(processed_taxonfilepath, index=False, header=True)\n",
    "    results = conn.uploadFile(processed_taxonfilepath, fileTag='MyDataSource', jobName='load_taxon_csv')\n",
    "os.remove(processed_taxonfilepath)"
   ]
  },
  {
   "cell_type": "code",
   "execution_count": null,
   "metadata": {
    "colab": {
     "base_uri": "https://localhost:8080/"
    },
    "id": "o5sund4oF3am",
    "outputId": "a2875332-3514-4edc-9baf-44fa0e38ce74"
   },
   "outputs": [],
   "source": [
    "# check our vertices\n",
    "print(\"Vertex Counts\")\n",
    "print(conn.getVertexCount(\"*\")) # {'Taxon': 6933649, 'TaxonomicStatus': 7, 'TaxonRank': 12}\n",
    "print(\"Edge Counts\")\n",
    "print(conn.getEdgeCount(\"*\")) # {'parent_taxon_id': 6921442, 'child_taxon_id': 6921442, 'accepted_name_id': 6921442, 'original_name_id': 6921442, 'taxon_rank': 6921442, 'taxon_status': 6921442}"
   ]
  },
  {
   "cell_type": "markdown",
   "metadata": {},
   "source": [
    "Looks like all the Taxons were uploaded. Fantastic!"
   ]
  },
  {
   "cell_type": "code",
   "execution_count": null,
   "metadata": {},
   "outputs": [],
   "source": [
    "# see 7 taxonomic status'\n",
    "print(taxon_df['taxonomicStatus'].value_counts()) # ['accepted', 'doubtful', 'synonym', 'proparte synonym', 'homotypic synonym', 'heterotypic synonym']\n",
    "print('-'*40)\n",
    "# and 12 taxon rankings\n",
    "print(taxon_df['taxonRank'].value_counts()) # ['genus', 'unranked', 'family', 'kingdom', 'phylum', 'species', 'class', 'order', 'variety', 'subspecies', 'form']"
   ]
  },
  {
   "cell_type": "code",
   "execution_count": null,
   "metadata": {
    "id": "-8a4OXNOGOgV"
   },
   "outputs": [],
   "source": [
    "# once we are happy that our vertices are uploaded, drop taxon df to reclaim some memory\n",
    "del taxon_df\n",
    "del chunk_taxon_df"
   ]
  },
  {
   "cell_type": "markdown",
   "metadata": {
    "id": "O2DMiyUpVyIH"
   },
   "source": [
    "##### Upload Distributions File\n",
    "Follow the same procedure"
   ]
  },
  {
   "cell_type": "code",
   "execution_count": null,
   "metadata": {
    "colab": {
     "base_uri": "https://localhost:8080/",
     "height": 386
    },
    "id": "FH4wcsGiZnAs",
    "outputId": "62010d06-6e07-4801-beca-599acb18df19"
   },
   "outputs": [],
   "source": [
    "# load distributions file\n",
    "distributions_df = pd.read_csv(os.path.join(DATA_DIR, 'Distribution.tsv'), sep='\\t', header=0, on_bad_lines='skip')\n",
    "\n",
    "# take only necessary columns\n",
    "distributions_df = distributions_df[['taxonID', 'locationID', 'locality' ,'country', 'countryCode', 'establishmentMeans', 'occurrenceStatus']]\n",
    "\n",
    "# fill taxonids\n",
    "distributions_df['taxonID'] = distributions_df['taxonID'].fillna(-1)\n",
    "distributions_df['taxonID'] = distributions_df['taxonID'].astype(int)\n",
    "\n",
    "# fill rest of nan with 'unknown'\n",
    "distributions_df = distributions_df.fillna('UNK')\n",
    "\n",
    "assert distributions_df.isna().sum().sum() == 0\n",
    "\n",
    "# reset index\n",
    "distributions_df = distributions_df.reset_index()\n",
    "\n",
    "print(distributions_df.shape)\n",
    "distributions_df.sample(2)"
   ]
  },
  {
   "cell_type": "markdown",
   "metadata": {},
   "source": [
    "Functions for cleaning text from distributions."
   ]
  },
  {
   "cell_type": "code",
   "execution_count": null,
   "metadata": {},
   "outputs": [],
   "source": [
    "import re\n",
    "\n",
    "def remove_whitespace(text):\n",
    "    return  \" \".join(text.split())\n",
    "\n",
    "def remove_tag(text):\n",
    "    html_pattern = re.compile('<.*?>')\n",
    "    return html_pattern.sub(r'', text)\n",
    "\n",
    "def ensure_alphanum(text):\n",
    "    return re.sub(r\"[^a-zA-Z0-9 ]\", \"\", text)\n",
    "\n",
    "def remove_urls(text):\n",
    "    url_pattern = re.compile(r'https?://\\S+|www\\.\\S+')\n",
    "    return url_pattern.sub(r'', text)\n",
    "\n",
    "def preprocess_input_text(text):\n",
    "    text = remove_urls(text)\n",
    "    text = remove_tag(text)\n",
    "    text = remove_whitespace(text)\n",
    "    return text\n"
   ]
  },
  {
   "cell_type": "code",
   "execution_count": null,
   "metadata": {},
   "outputs": [],
   "source": [
    "# process the texts of these\n",
    "distributions_df['locationID'] = distributions_df['locationID'].apply(preprocess_input_text)\n",
    "distributions_df['locality'] = distributions_df['locality'].apply(preprocess_input_text)\n",
    "distributions_df['country'] = distributions_df['country'].apply(preprocess_input_text)"
   ]
  },
  {
   "cell_type": "code",
   "execution_count": null,
   "metadata": {
    "id": "enmdal_iyvY1"
   },
   "outputs": [],
   "source": [
    "secret = conn.createSecret()\n",
    "authToken = conn.getToken(secret)\n",
    "\n",
    "# securely connect to graph we created\n",
    "conn = tg.TigerGraphConnection(\n",
    "    host=HOSTNAME, \n",
    "    username=USERNAME, \n",
    "    password=PASSWORD, \n",
    "    graphname=GRAPH_NAME, \n",
    "    apiToken=authToken[0],\n",
    "    gsqlVersion=\"3.0.5\",\n",
    "    useCert=True\n",
    "    )"
   ]
  },
  {
   "cell_type": "code",
   "execution_count": null,
   "metadata": {
    "colab": {
     "base_uri": "https://localhost:8080/",
     "height": 49,
     "referenced_widgets": [
      "f9bfeee3739d4fc798f350ff7b7a0738",
      "5f6515c465924ab88590f03ede7dfc9b",
      "091325d0f7514976b9f44f9699a8c845",
      "6262cd3d4d074205a46f3092000bd6b7",
      "ffd6c5eb618040058969bae5699de671",
      "1ff8b90126a1423181c889b9ab9c6422",
      "4b4e0701ea0d4e94aeaec2c3075a8bd5",
      "21f9d01c6db0497e94ac4b6d3cc6b63a",
      "103fa3c272de48aa8d603bdbd6287aef",
      "21f0a5e69d904f658da1762c19ec8fa0",
      "a33e2c93fa0049ed91b31794f3a5e43b"
     ]
    },
    "id": "U-aR3CaE2P4i",
    "outputId": "b22b5338-e67b-4f4b-c254-2717caf4ce07",
    "tags": []
   },
   "outputs": [],
   "source": [
    "# split into chunks as we did with taxon above\n",
    "import time\n",
    "chunked_df = np.array_split(distributions_df, 490) \n",
    "    \n",
    "processed_filepath = './processed.csv' # temp savedir for our chunk\n",
    "# upload one-by-one: save chunk to csv, upload csv, repeat\n",
    "# note; may need a very beefy TG cloud instance; otherwise there is a big fear or running out of memory\n",
    "# which is what happened to me with an instance with 16gb ram\n",
    "for idx, cdf in tqdm(enumerate(chunked_df)):\n",
    "    \n",
    "    # stop upload early to leave some memory free for queries later on\n",
    "    if idx==100:\n",
    "        break\n",
    "\n",
    "    cdf.to_csv(processed_filepath, index=False, header=True)\n",
    "    results = conn.uploadFile(processed_filepath, fileTag='MyDataSource', jobName='load_distributions_csv')\n",
    "os.remove(processed_filepath)"
   ]
  },
  {
   "cell_type": "code",
   "execution_count": null,
   "metadata": {
    "id": "ADnHoZaxhTbP"
   },
   "outputs": [],
   "source": [
    "# again, reclaim some memory\n",
    "del distributions_df\n",
    "del cdf"
   ]
  },
  {
   "cell_type": "code",
   "execution_count": null,
   "metadata": {
    "id": "2EvoOeYbFZmW"
   },
   "outputs": [],
   "source": [
    "# check our vertices\n",
    "print(\"Vertex Counts\")\n",
    "print(conn.getVertexCount(\"*\")) # {'Taxon': 6933651, 'TaxonomicStatus': 7, 'TaxonRank': 12, 'EstablishmentMeans': 4, 'Distribution': 16217, 'OccurrenceStatus': 6, 'LocationID': 15, 'Locality': 17, 'Country': 4, 'Player': 0}\n",
    "print(\"Edge Counts\")\n",
    "print(conn.getEdgeCount(\"*\")) # {'parent_taxon_id': 6921442, 'child_taxon_id': 6921442, 'accepted_name_id': 6921442, 'original_name_id': 6921442, 'taxon_rank': 6921442, 'taxon_status': 6921442, 'taxon_distribution': 11702, 'distribution_establishment': 18190, 'distribution_occurrence': 18190, 'distribution_locationid': 18190, 'distribution_locality': 18190, 'distribution_country': 18190, 'sighting': 0}"
   ]
  },
  {
   "cell_type": "markdown",
   "metadata": {
    "id": "FyR3K5jhyvBy"
   },
   "source": [
    "### Querying\n",
    "To continue in the next notebook!"
   ]
  },
  {
   "cell_type": "code",
   "execution_count": null,
   "metadata": {
    "id": "Vh7SRM7RwdcW"
   },
   "outputs": [],
   "source": [
    "results = conn.getVerticesById(\"Taxon\", \"10109647\")\n",
    "print(results)"
   ]
  },
  {
   "cell_type": "code",
   "execution_count": null,
   "metadata": {
    "id": "u53noWRPwhtm"
   },
   "outputs": [],
   "source": [
    "results = conn.getEdgeCountFrom(\"Taxon\", \"10109647\")\n",
    "print(results)"
   ]
  },
  {
   "cell_type": "code",
   "execution_count": null,
   "metadata": {
    "id": "Wbcx567HzB-t"
   },
   "outputs": [],
   "source": [
    "results = conn.getEdges(\"Taxon\", \"10109647\")\n",
    "print(results)"
   ]
  },
  {
   "cell_type": "code",
   "execution_count": null,
   "metadata": {},
   "outputs": [],
   "source": []
  }
 ],
 "metadata": {
  "colab": {
   "collapsed_sections": [],
   "name": "UploadGBIF.ipynb",
   "provenance": []
  },
  "environment": {
   "kernel": "python3",
   "name": "tf2-gpu.2-7.m87",
   "type": "gcloud",
   "uri": "gcr.io/deeplearning-platform-release/tf2-gpu.2-7:m87"
  },
  "kernelspec": {
   "display_name": "Python 3",
   "language": "python",
   "name": "python3"
  },
  "language_info": {
   "codemirror_mode": {
    "name": "ipython",
    "version": 3
   },
   "file_extension": ".py",
   "mimetype": "text/x-python",
   "name": "python",
   "nbconvert_exporter": "python",
   "pygments_lexer": "ipython3",
   "version": "3.7.12"
  },
  "widgets": {
   "application/vnd.jupyter.widget-state+json": {
    "091325d0f7514976b9f44f9699a8c845": {
     "model_module": "@jupyter-widgets/controls",
     "model_module_version": "1.5.0",
     "model_name": "FloatProgressModel",
     "state": {
      "_dom_classes": [],
      "_model_module": "@jupyter-widgets/controls",
      "_model_module_version": "1.5.0",
      "_model_name": "FloatProgressModel",
      "_view_count": null,
      "_view_module": "@jupyter-widgets/controls",
      "_view_module_version": "1.5.0",
      "_view_name": "ProgressView",
      "bar_style": "info",
      "description": "",
      "description_tooltip": null,
      "layout": "IPY_MODEL_21f9d01c6db0497e94ac4b6d3cc6b63a",
      "max": 1,
      "min": 0,
      "orientation": "horizontal",
      "style": "IPY_MODEL_103fa3c272de48aa8d603bdbd6287aef",
      "value": 1
     }
    },
    "103fa3c272de48aa8d603bdbd6287aef": {
     "model_module": "@jupyter-widgets/controls",
     "model_module_version": "1.5.0",
     "model_name": "ProgressStyleModel",
     "state": {
      "_model_module": "@jupyter-widgets/controls",
      "_model_module_version": "1.5.0",
      "_model_name": "ProgressStyleModel",
      "_view_count": null,
      "_view_module": "@jupyter-widgets/base",
      "_view_module_version": "1.2.0",
      "_view_name": "StyleView",
      "bar_color": null,
      "description_width": ""
     }
    },
    "1ff8b90126a1423181c889b9ab9c6422": {
     "model_module": "@jupyter-widgets/base",
     "model_module_version": "1.2.0",
     "model_name": "LayoutModel",
     "state": {
      "_model_module": "@jupyter-widgets/base",
      "_model_module_version": "1.2.0",
      "_model_name": "LayoutModel",
      "_view_count": null,
      "_view_module": "@jupyter-widgets/base",
      "_view_module_version": "1.2.0",
      "_view_name": "LayoutView",
      "align_content": null,
      "align_items": null,
      "align_self": null,
      "border": null,
      "bottom": null,
      "display": null,
      "flex": null,
      "flex_flow": null,
      "grid_area": null,
      "grid_auto_columns": null,
      "grid_auto_flow": null,
      "grid_auto_rows": null,
      "grid_column": null,
      "grid_gap": null,
      "grid_row": null,
      "grid_template_areas": null,
      "grid_template_columns": null,
      "grid_template_rows": null,
      "height": null,
      "justify_content": null,
      "justify_items": null,
      "left": null,
      "margin": null,
      "max_height": null,
      "max_width": null,
      "min_height": null,
      "min_width": null,
      "object_fit": null,
      "object_position": null,
      "order": null,
      "overflow": null,
      "overflow_x": null,
      "overflow_y": null,
      "padding": null,
      "right": null,
      "top": null,
      "visibility": null,
      "width": null
     }
    },
    "21f0a5e69d904f658da1762c19ec8fa0": {
     "model_module": "@jupyter-widgets/base",
     "model_module_version": "1.2.0",
     "model_name": "LayoutModel",
     "state": {
      "_model_module": "@jupyter-widgets/base",
      "_model_module_version": "1.2.0",
      "_model_name": "LayoutModel",
      "_view_count": null,
      "_view_module": "@jupyter-widgets/base",
      "_view_module_version": "1.2.0",
      "_view_name": "LayoutView",
      "align_content": null,
      "align_items": null,
      "align_self": null,
      "border": null,
      "bottom": null,
      "display": null,
      "flex": null,
      "flex_flow": null,
      "grid_area": null,
      "grid_auto_columns": null,
      "grid_auto_flow": null,
      "grid_auto_rows": null,
      "grid_column": null,
      "grid_gap": null,
      "grid_row": null,
      "grid_template_areas": null,
      "grid_template_columns": null,
      "grid_template_rows": null,
      "height": null,
      "justify_content": null,
      "justify_items": null,
      "left": null,
      "margin": null,
      "max_height": null,
      "max_width": null,
      "min_height": null,
      "min_width": null,
      "object_fit": null,
      "object_position": null,
      "order": null,
      "overflow": null,
      "overflow_x": null,
      "overflow_y": null,
      "padding": null,
      "right": null,
      "top": null,
      "visibility": null,
      "width": null
     }
    },
    "21f9d01c6db0497e94ac4b6d3cc6b63a": {
     "model_module": "@jupyter-widgets/base",
     "model_module_version": "1.2.0",
     "model_name": "LayoutModel",
     "state": {
      "_model_module": "@jupyter-widgets/base",
      "_model_module_version": "1.2.0",
      "_model_name": "LayoutModel",
      "_view_count": null,
      "_view_module": "@jupyter-widgets/base",
      "_view_module_version": "1.2.0",
      "_view_name": "LayoutView",
      "align_content": null,
      "align_items": null,
      "align_self": null,
      "border": null,
      "bottom": null,
      "display": null,
      "flex": null,
      "flex_flow": null,
      "grid_area": null,
      "grid_auto_columns": null,
      "grid_auto_flow": null,
      "grid_auto_rows": null,
      "grid_column": null,
      "grid_gap": null,
      "grid_row": null,
      "grid_template_areas": null,
      "grid_template_columns": null,
      "grid_template_rows": null,
      "height": null,
      "justify_content": null,
      "justify_items": null,
      "left": null,
      "margin": null,
      "max_height": null,
      "max_width": null,
      "min_height": null,
      "min_width": null,
      "object_fit": null,
      "object_position": null,
      "order": null,
      "overflow": null,
      "overflow_x": null,
      "overflow_y": null,
      "padding": null,
      "right": null,
      "top": null,
      "visibility": null,
      "width": "20px"
     }
    },
    "4b4e0701ea0d4e94aeaec2c3075a8bd5": {
     "model_module": "@jupyter-widgets/controls",
     "model_module_version": "1.5.0",
     "model_name": "DescriptionStyleModel",
     "state": {
      "_model_module": "@jupyter-widgets/controls",
      "_model_module_version": "1.5.0",
      "_model_name": "DescriptionStyleModel",
      "_view_count": null,
      "_view_module": "@jupyter-widgets/base",
      "_view_module_version": "1.2.0",
      "_view_name": "StyleView",
      "description_width": ""
     }
    },
    "5f6515c465924ab88590f03ede7dfc9b": {
     "model_module": "@jupyter-widgets/controls",
     "model_module_version": "1.5.0",
     "model_name": "HTMLModel",
     "state": {
      "_dom_classes": [],
      "_model_module": "@jupyter-widgets/controls",
      "_model_module_version": "1.5.0",
      "_model_name": "HTMLModel",
      "_view_count": null,
      "_view_module": "@jupyter-widgets/controls",
      "_view_module_version": "1.5.0",
      "_view_name": "HTMLView",
      "description": "",
      "description_tooltip": null,
      "layout": "IPY_MODEL_1ff8b90126a1423181c889b9ab9c6422",
      "placeholder": "​",
      "style": "IPY_MODEL_4b4e0701ea0d4e94aeaec2c3075a8bd5",
      "value": ""
     }
    },
    "6262cd3d4d074205a46f3092000bd6b7": {
     "model_module": "@jupyter-widgets/controls",
     "model_module_version": "1.5.0",
     "model_name": "HTMLModel",
     "state": {
      "_dom_classes": [],
      "_model_module": "@jupyter-widgets/controls",
      "_model_module_version": "1.5.0",
      "_model_name": "HTMLModel",
      "_view_count": null,
      "_view_module": "@jupyter-widgets/controls",
      "_view_module_version": "1.5.0",
      "_view_name": "HTMLView",
      "description": "",
      "description_tooltip": null,
      "layout": "IPY_MODEL_21f0a5e69d904f658da1762c19ec8fa0",
      "placeholder": "​",
      "style": "IPY_MODEL_a33e2c93fa0049ed91b31794f3a5e43b",
      "value": " 2694/? [35:45&lt;00:00,  1.02s/it]"
     }
    },
    "a33e2c93fa0049ed91b31794f3a5e43b": {
     "model_module": "@jupyter-widgets/controls",
     "model_module_version": "1.5.0",
     "model_name": "DescriptionStyleModel",
     "state": {
      "_model_module": "@jupyter-widgets/controls",
      "_model_module_version": "1.5.0",
      "_model_name": "DescriptionStyleModel",
      "_view_count": null,
      "_view_module": "@jupyter-widgets/base",
      "_view_module_version": "1.2.0",
      "_view_name": "StyleView",
      "description_width": ""
     }
    },
    "f9bfeee3739d4fc798f350ff7b7a0738": {
     "model_module": "@jupyter-widgets/controls",
     "model_module_version": "1.5.0",
     "model_name": "HBoxModel",
     "state": {
      "_dom_classes": [],
      "_model_module": "@jupyter-widgets/controls",
      "_model_module_version": "1.5.0",
      "_model_name": "HBoxModel",
      "_view_count": null,
      "_view_module": "@jupyter-widgets/controls",
      "_view_module_version": "1.5.0",
      "_view_name": "HBoxView",
      "box_style": "",
      "children": [
       "IPY_MODEL_5f6515c465924ab88590f03ede7dfc9b",
       "IPY_MODEL_091325d0f7514976b9f44f9699a8c845",
       "IPY_MODEL_6262cd3d4d074205a46f3092000bd6b7"
      ],
      "layout": "IPY_MODEL_ffd6c5eb618040058969bae5699de671"
     }
    },
    "ffd6c5eb618040058969bae5699de671": {
     "model_module": "@jupyter-widgets/base",
     "model_module_version": "1.2.0",
     "model_name": "LayoutModel",
     "state": {
      "_model_module": "@jupyter-widgets/base",
      "_model_module_version": "1.2.0",
      "_model_name": "LayoutModel",
      "_view_count": null,
      "_view_module": "@jupyter-widgets/base",
      "_view_module_version": "1.2.0",
      "_view_name": "LayoutView",
      "align_content": null,
      "align_items": null,
      "align_self": null,
      "border": null,
      "bottom": null,
      "display": null,
      "flex": null,
      "flex_flow": null,
      "grid_area": null,
      "grid_auto_columns": null,
      "grid_auto_flow": null,
      "grid_auto_rows": null,
      "grid_column": null,
      "grid_gap": null,
      "grid_row": null,
      "grid_template_areas": null,
      "grid_template_columns": null,
      "grid_template_rows": null,
      "height": null,
      "justify_content": null,
      "justify_items": null,
      "left": null,
      "margin": null,
      "max_height": null,
      "max_width": null,
      "min_height": null,
      "min_width": null,
      "object_fit": null,
      "object_position": null,
      "order": null,
      "overflow": null,
      "overflow_x": null,
      "overflow_y": null,
      "padding": null,
      "right": null,
      "top": null,
      "visibility": null,
      "width": null
     }
    }
   }
  }
 },
 "nbformat": 4,
 "nbformat_minor": 4
}

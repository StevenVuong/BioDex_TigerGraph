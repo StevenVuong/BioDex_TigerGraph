{
 "cells": [
  {
   "cell_type": "markdown",
   "id": "edb70ef4-2c5d-4a7f-b2eb-06aa9f435d5f",
   "metadata": {},
   "source": [
    "# Goal of this notebook\n",
    "\n",
    "Date: **26-02-2022**\n",
    "\n",
    "[iNaturalist Dataset 2021](https://github.com/visipedia/inat_comp/tree/master/2021) contains 10,000 species under 11 'super-categories'. We will create a separate model for each super-category, instead of a single model to classify each of the categories as is required by the challenge as we believe that individual super-category level models would have higher accuracy. <P>\n",
    "We will preprocess the 'mini dataset' first. This dataset consists of 500px images in jpeg format with 50 images per species, making up 500,000 images. The dataset also includes location, however we will not be making use of that today. There is also a `.json` file that accompanies the dataset and we will use that to help organise our images."
   ]
  },
  {
   "cell_type": "code",
   "execution_count": null,
   "id": "895fb9bd-4313-48d9-a2d1-2d4756618cb5",
   "metadata": {},
   "outputs": [],
   "source": [
    "import os\n",
    "from tqdm.notebook import tqdm\n",
    "import numpy as np\n",
    "import json\n",
    "import shutil\n",
    "import pandas as pd\n",
    "import seaborn as sns\n",
    "import matplotlib.pyplot as plt\n",
    "\n",
    "%matplotlib inline"
   ]
  },
  {
   "cell_type": "code",
   "execution_count": null,
   "id": "6f202744-a40c-49fb-a2e0-6545d9a5fce8",
   "metadata": {},
   "outputs": [],
   "source": [
    "DATA_DIR = './data/'\n",
    "CURRENT_IMGS_DIR = os.path.join(DATA_DIR, 'train_mini')\n",
    "NEW_IMGS_DIR = os.path.join(DATA_DIR, 'train_mini_supercategory')\n",
    "\n",
    "# make new directory to store images split by superclasses\n",
    "if not os.path.exists(NEW_IMGS_DIR):\n",
    "    os.makedirs(NEW_IMGS_DIR)"
   ]
  },
  {
   "cell_type": "code",
   "execution_count": null,
   "id": "50d6442d-1b30-4f1c-84ed-5a9d3d4d5f79",
   "metadata": {},
   "outputs": [],
   "source": [
    "# read train mini to a dict\n",
    "with open(os.path.join(DATA_DIR, 'train_mini.json'), 'r') as jf:\n",
    "    data = json.load(jf)"
   ]
  },
  {
   "cell_type": "code",
   "execution_count": null,
   "id": "85ad98f2-65e2-4239-b9a7-c3db4d773595",
   "metadata": {},
   "outputs": [],
   "source": [
    "# write individual json files for each supercategory\n",
    "\n",
    "# store values in dict\n",
    "supercategory_dict = {}\n",
    "for img_category in tqdm(data['categories']):\n",
    "    \n",
    "    if img_category['supercategory'] not in supercategory_dict:\n",
    "        supercategory_dict[img_category['supercategory']] = [img_category]\n",
    "    else:\n",
    "        supercategory_dict[img_category['supercategory']].append(img_category)\n",
    "        \n",
    "# move json files\n",
    "for supercategory in tqdm(supercategory_dict):\n",
    "    supercat_dict = {idx: value for idx, value in enumerate(supercategory_dict[supercategory])}\n",
    "    with open(os.path.join(NEW_IMGS_DIR, f\"{supercategory}.json\"), 'w') as jf:\n",
    "        json.dump(supercat_dict, jf)\n",
    "        "
   ]
  },
  {
   "cell_type": "code",
   "execution_count": null,
   "id": "ba3e9930-f015-4bd1-b865-90637fb2c731",
   "metadata": {},
   "outputs": [],
   "source": [
    "# plot number of categories per supercategory\n",
    "keys, counts = zip(*[(key, len(supercategory_dict[key])) for key in supercategory_dict])\n",
    "keys = list(keys)\n",
    "counts = np.array(counts)\n",
    "counts_df = pd.DataFrame({'keys':keys,'counts':counts})\n",
    "\n",
    "ax = sns.barplot(y='keys', x='counts', data=counts_df)\n",
    "ax.set_title('Number of species per supercategory')\n",
    "ax.bar_label(ax.containers[0]);"
   ]
  },
  {
   "cell_type": "code",
   "execution_count": null,
   "id": "9d3515fb-8a3c-4a38-9d52-32fdafe54a46",
   "metadata": {},
   "outputs": [],
   "source": [
    "for img_category in tqdm(data['categories']): \n",
    "    \n",
    "    # make dir for supercategory if not exist\n",
    "    supercategory_savepath = os.path.join(NEW_IMGS_DIR, img_category['supercategory'])\n",
    "    if not os.path.exists(supercategory_savepath):\n",
    "        os.makedirs(supercategory_savepath)\n",
    "        \n",
    "    # move directory\n",
    "    img_dir = os.path.join(CURRENT_IMGS_DIR, img_category['image_dir_name'])\n",
    "    new_img_dir = os.path.join(supercategory_savepath, img_category['name'])\n",
    "    \n",
    "    # if path exists; continue. Else makedir\n",
    "    if os.path.exists(new_img_dir):\n",
    "        continue\n",
    "    os.makedirs(new_img_dir)\n",
    "    \n",
    "    # copy over\n",
    "    for img_name in os.listdir(img_dir):\n",
    "        shutil.move(os.path.join(img_dir,img_name), os.path.join(new_img_dir, img_name))\n",
    "    "
   ]
  },
  {
   "cell_type": "code",
   "execution_count": null,
   "id": "27ff5e1c-5d13-4c87-8c6a-ab2710491119",
   "metadata": {},
   "outputs": [],
   "source": []
  }
 ],
 "metadata": {
  "environment": {
   "kernel": "python3",
   "name": "tf2-gpu.2-7.m87",
   "type": "gcloud",
   "uri": "gcr.io/deeplearning-platform-release/tf2-gpu.2-7:m87"
  },
  "kernelspec": {
   "display_name": "Python 3",
   "language": "python",
   "name": "python3"
  },
  "language_info": {
   "codemirror_mode": {
    "name": "ipython",
    "version": 3
   },
   "file_extension": ".py",
   "mimetype": "text/x-python",
   "name": "python",
   "nbconvert_exporter": "python",
   "pygments_lexer": "ipython3",
   "version": "3.7.12"
  }
 },
 "nbformat": 4,
 "nbformat_minor": 5
}

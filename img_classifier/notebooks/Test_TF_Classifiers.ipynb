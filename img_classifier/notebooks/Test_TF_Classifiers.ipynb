{
  "cells": [
    {
      "cell_type": "markdown",
      "metadata": {
        "id": "YKZ7s7BfPVYH"
      },
      "source": [
        "## Testing TensorFlow off the shelf classifiers\n",
        "\n",
        "Classification Modules:\n",
        "-  [Insects Module](https://tfhub.dev/google/aiy/vision/classifier/insects_V1/1)\n",
        "-  [Birds Module](https://tfhub.dev/google/aiy/vision/classifier/birds_V1/1)\n",
        "-  [Plants Module 1](https://tfhub.dev/google/aiy/vision/classifier/plants_V1/1)"
      ]
    },
    {
      "cell_type": "code",
      "execution_count": null,
      "metadata": {
        "id": "VmNDRaMoPtcC"
      },
      "outputs": [],
      "source": [
        "# np==1.21.5\n",
        "# tensorflow==2.8.0\n",
        "# keras==2.8.0\n",
        "# tensorflow_hub==0.12.0\n"
      ]
    },
    {
      "cell_type": "code",
      "execution_count": 1,
      "metadata": {
        "id": "AAfMqWEoAs8u"
      },
      "outputs": [],
      "source": [
        "import csv\n",
        "from dataclasses import dataclass\n",
        "import tensorflow_hub as hub\n",
        "import tensorflow as tf\n",
        "import numpy as np\n",
        "from numpy.linalg import norm\n",
        "\n",
        "from keras.preprocessing import image\n"
      ]
    },
    {
      "cell_type": "markdown",
      "metadata": {
        "id": "6XbJwMflJns2"
      },
      "source": [
        "#### Define Functions"
      ]
    },
    {
      "cell_type": "code",
      "execution_count": null,
      "metadata": {
        "id": "7btyyyxQMgFB"
      },
      "outputs": [],
      "source": [
        "def normalize_01(input_image):\n",
        "    \"\"\"Normalise image to [0, 1]\"\"\"\n",
        "    return input_image/255.\n",
        "\n",
        "def load_img_to_array(img_path, target_size):\n",
        "    img = image.load_img(img_path, target_size = target_size)\n",
        "    img = image.img_to_array(img)\n",
        "    return img"
      ]
    },
    {
      "cell_type": "code",
      "execution_count": null,
      "metadata": {
        "id": "UYYVa_HEM1G-"
      },
      "outputs": [],
      "source": [
        "def preprocess_image(img_path, target_size=(224, 224)):\n",
        "    \"\"\"Load image to arary, resize, scale and expand dimensions.\"\"\"\n",
        "    img = load_img_to_array(img_path, target_size)\n",
        "    assert img.shape == (*target_size, 3)\n",
        "    assert np.min(img) >= 0\n",
        "    assert np.max(img) <= 255.\n",
        "\n",
        "    # scale to [0, 1]\n",
        "    img = normalize_01(img)\n",
        "    assert np.min(img) >= 0\n",
        "    assert np.max(img) <= 1.\n",
        "\n",
        "    # expand dim\n",
        "    img = np.expand_dims(img, axis = 0)\n",
        "    assert img.shape == (1, *target_size, 3)\n",
        "\n",
        "    return img"
      ]
    },
    {
      "cell_type": "code",
      "execution_count": null,
      "metadata": {
        "id": "ZPEXcnZ7KucV"
      },
      "outputs": [],
      "source": [
        "def load_labelmap_to_dict(csv_path):\n",
        "    labeldict = {}\n",
        "    with open(csv_path, newline='') as csvfile:\n",
        "        reader = csv.DictReader(csvfile)\n",
        "        for row in reader:\n",
        "            labeldict[int(row['id'])] = row['name']\n",
        "    return labeldict"
      ]
    },
    {
      "cell_type": "code",
      "execution_count": null,
      "metadata": {
        "id": "4zla_JEGK8De"
      },
      "outputs": [],
      "source": [
        "@dataclass\n",
        "class ModelOutput:\n",
        "    name: str \n",
        "    raw_score: float\n",
        "    scaled_score: float \n",
        "\n",
        "\n",
        "def get_top_n_preds(model_output, labeldict, n=5, scale_threshold=1e-2):\n",
        "    top_n_indices = (-model_output).argsort()[:n]\n",
        "\n",
        "    model_outputs = []\n",
        "    for ni in top_n_indices:\n",
        "        sum_scale = sum(model_output[model_output>scale_threshold])\n",
        "        model_outputs.append(ModelOutput(\n",
        "            name = labeldict[ni],\n",
        "            raw_score = (model_output[ni] / np.sum(model_output)),\n",
        "            scaled_score = (model_output[ni] / sum_scale)\n",
        "        ))\n",
        "    return model_outputs"
      ]
    },
    {
      "cell_type": "code",
      "execution_count": null,
      "metadata": {},
      "outputs": [],
      "source": [
        "def get_top_n_preds_dict(model_output, labeldict, n=5):\n",
        "    top_n_indices = (-model_output).argsort()[:n]\n",
        "    model_outputs = {labeldict[ni] : (model_output[ni] / np.sum(model_output)) for ni in top_n_indices}\n",
        "    return model_outputs"
      ]
    },
    {
      "cell_type": "markdown",
      "metadata": {
        "id": "v2smR4HGLasR"
      },
      "source": [
        "#### Birds\n",
        "Only 964 bird species in `bird_labelmap`"
      ]
    },
    {
      "cell_type": "code",
      "execution_count": null,
      "metadata": {
        "id": "3E7qvC5pEWOz"
      },
      "outputs": [],
      "source": [
        "# download keras model\n",
        "m = hub.KerasLayer('https://tfhub.dev/google/aiy/vision/classifier/birds_V1/1')\n",
        "\n",
        "# load label dictionary\n",
        "bird_labeldict = load_labelmap_to_dict('./bird_labelmap.csv')\n",
        "\n",
        "# preprocess image and run through model\n",
        "test_img = preprocess_image('./birdy.jpg')\n",
        "test_img_embeds = m(test_img).numpy()[0]\n",
        "\n",
        "# get outputs\n",
        "outputs = get_top_n_preds(test_img_embeds, bird_labeldict, 5)\n",
        "for o in outputs:\n",
        "    print(o)"
      ]
    },
    {
      "cell_type": "markdown",
      "metadata": {
        "id": "uyqf9En8Lb7R"
      },
      "source": [
        "#### Insects\n",
        "`1021` insect species to be identified"
      ]
    },
    {
      "cell_type": "code",
      "execution_count": null,
      "metadata": {
        "id": "rbOJO9H_EQY7"
      },
      "outputs": [],
      "source": [
        "# download keras model\n",
        "m_insects = hub.KerasLayer('https://tfhub.dev/google/aiy/vision/classifier/insects_V1/1')\n",
        "\n",
        "# load label dictionary\n",
        "insect_labeldict = load_labelmap_to_dict('./insects_labelmap.csv')\n",
        "\n",
        "# preprocess image and run through model\n",
        "test_img = preprocess_image('./ladybird.jpg')\n",
        "test_img_embeds = m_insects(test_img).numpy()[0]\n",
        "\n",
        "# get outputs\n",
        "outputs = get_top_n_preds(test_img_embeds, insect_labeldict, 5)\n",
        "for o in outputs:\n",
        "    print(o)"
      ]
    },
    {
      "cell_type": "markdown",
      "metadata": {
        "id": "4w1v4cF8LfxJ"
      },
      "source": [
        "#### Plants\n",
        "`2101` species already"
      ]
    },
    {
      "cell_type": "code",
      "execution_count": null,
      "metadata": {
        "id": "K0VJjRtlD9Zt"
      },
      "outputs": [],
      "source": [
        "# download keras model\n",
        "m_plants = hub.KerasLayer('https://tfhub.dev/google/aiy/vision/classifier/plants_V1/1')\n",
        "\n",
        "# load label dictionary\n",
        "plants_labeldict = load_labelmap_to_dict('./plants_labelmap.csv')\n",
        "\n",
        "# preprocess image and run through model\n",
        "test_img = preprocess_image('./snakey.jpeg')\n",
        "test_img_embeds = m_plants(test_img).numpy()[0]\n",
        "\n",
        "# get outputs\n",
        "outputs = get_top_n_preds(test_img_embeds, plants_labeldict, 5)\n",
        "for o in outputs:\n",
        "    print(o)"
      ]
    },
    {
      "cell_type": "code",
      "execution_count": null,
      "metadata": {
        "id": "ilkbPrU_OmWa"
      },
      "outputs": [],
      "source": []
    }
  ],
  "metadata": {
    "accelerator": "GPU",
    "colab": {
      "collapsed_sections": [],
      "name": "Test TF-Classifiers.ipynb",
      "provenance": []
    },
    "kernelspec": {
      "display_name": "Python 3",
      "name": "python3"
    },
    "language_info": {
      "name": "python"
    }
  },
  "nbformat": 4,
  "nbformat_minor": 0
}
